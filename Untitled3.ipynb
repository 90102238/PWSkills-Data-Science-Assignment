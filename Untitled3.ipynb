{
  "nbformat": 4,
  "nbformat_minor": 0,
  "metadata": {
    "colab": {
      "provenance": []
    },
    "kernelspec": {
      "name": "python3",
      "display_name": "Python 3"
    },
    "language_info": {
      "name": "python"
    }
  },
  "cells": [
    {
      "cell_type": "markdown",
      "source": [
        "1. what are data structures and why are they important?\n",
        "- data structures are a way of organising storing so it can be easily accessed and maunipulated effieciently. They are important to store, retreive and run operations on data.\n",
        "2. Explain the difference between mutable and immutable data types with examples.\n",
        "- Mutable data sets are data sets which can be changed and or replaced after they are created. examples are lists, sets etc. immutable data sets on the other hand are data sets that once created, have fixed nature of data which can not be changed examples are tuples, dictionary etc. immutable sets are useful to store fixed values where we dont want iterations once the data is stored.\n",
        "3. What are the main difference between lists and tuples in Python.\n",
        "- Lists are heterogenous ordered collection of data, which can store multiple data sets of different data types. Tuples are also heterogenous ordered collection of data. the major point of difference between the 2 is- lists are mutable whereas tuples are immutable.\n",
        "4. Describe how dictionary stores data?\n",
        "- Dictionary stores data as key value pairs. Where a key represent a corresponding value assigned to that key. Keys are unique and immutable.\n",
        "5. why might you use a set instead of a list in python?\n",
        "- We might use a set instead of a list when we want only unique values to be added to our final data set. in a list same data value can be stored multiple times where each value is considered to a different data value whereas sets only allows unique data values to be stored in the data structure.\n",
        "6. What is a string in python and how is it different from a list?\n",
        "- String are data structures used to represent and manipulate only textual data. whereas a list is a heterogenous data strucutre which store value from all different data types- integers, strings, boolean etc.\n",
        "7. How do tuples ensure data integrity in python?\n",
        "- Tuples ensure data integrity as they are immutable, this means that once a data set is stored inside a tuple, it can not be manipulated or replaced through accidental actions ensuring the integrity of data.\n",
        "8. What is a hash table and how does it relate to dictionaries in python?\n",
        "- Hash table is the underlying principle based on which a dictionary is able to store data in key- value pair. hash table are used to map each unique key to its value. hash table are used to define a specific index where the key and its value is stored.\n",
        "9. Can lists contain different data types in python?\n",
        "- Yes a list is a heterogenous data structure so it can store values from different data types.\n",
        "10. Explain why strings are immutable in python?\n",
        "- strings are immutable as once a string it made you can not modify its content. If we try to do so it would create a new string itself.\n",
        "11. What advantages do dictionaries offer over lists for certain tasks?\n",
        "- Dictionaries offer advantages over list when we want store only unique data values which exist in pair, and we do not want any changes to be made to the data stored.\n",
        "12. Describe a scenario where using a tuple would be preferable over a list?\n",
        "- Tuple would be more preferable in scenarios where we want to preserve the data which we want to store and do not want any changes to be made to the data once it is stored.\n",
        "13. How do sets handle duplicate values in python?\n",
        "- Set is a data structure which is unorganised and stores only unique data sets, this means that any duplicate value would be automatically eliminated in a set.\n",
        "14. How does the in keyword work differently for lists and dictionaries?\n",
        "- In keyword works differently in case of a list as compared to a dictionary. For a list in keywords check whether the that value is present that is its membership in the list or not, whereas in a dictionary in checks for the existence of that key in the dictionary.\n",
        "15. Can you modify elements of a tuple? explain why or why not?\n",
        "- Tuples are immutable, this means that once a data set is stored inside a tuple, it can not be modified or replaced directly. as tuples are meant to represent fixed sets of data.\n",
        "16. What is a nested dictionary and give example of its use cases.\n",
        "- A nested dictionary is a dictionary where it has another dictionary as value item against its keys. It can be used to store data of specific students and employees for an organization, where key could be unique identifier for the person and the values against that key would be another dictionary storing all the relevant informatiion.\n",
        "17. Describe the time complexity of accessing elements in dictionary?\n",
        "- Due to the use of hash table dictionaries are faster as python directly goes to the memory location where the value is stored instead of searcing through the whole data.\n",
        "18. In what situations are lists preferred over dictionaries?\n",
        "- Lists are preferred over dictionaries in scenarios where we want to make further iterations in the data being stored and the order of data bieng stored is also relevant to us. Also when we want data to retrieved using indexes list are more preferable over dictionaries.\n",
        "19. Why are dictionaires considered unordered and how does that affect the data retrieval?\n",
        "-Dictionaries were originally called unordered because hash tables dont guarantee order. Modern Python preserves insertion order, but retrieval speed and behavior are still governed by hashing, not position.\n",
        "20. Explain the difference between a list and dictionary in terms of data retrieval?\n",
        "- Data retrieval in keys are through index whereas it is through keys in dictionaries, lists also relies on order of data for retrieval whereas in dictionaries relies on keys, and a list has usual a slower time in retrieval of data as it scans the data one by one instead of a  dictionary where a key value defines exactly where to look for the value."
      ],
      "metadata": {
        "id": "Mqhf2wLmqkIN"
      }
    },
    {
      "cell_type": "code",
      "source": [
        "# Practical question 1\n",
        "name = input(\"enter your name:\")\n",
        "print (name)\n"
      ],
      "metadata": {
        "colab": {
          "base_uri": "https://localhost:8080/"
        },
        "id": "dpSOf3EO46tB",
        "outputId": "3197b3ec-4687-473d-aa71-cd3788af9e28"
      },
      "execution_count": 4,
      "outputs": [
        {
          "output_type": "stream",
          "name": "stdout",
          "text": [
            "enter your name:Shubham\n",
            "Shubham\n"
          ]
        }
      ]
    },
    {
      "cell_type": "code",
      "source": [
        "# Practical question 2\n",
        "a= \"Hello World\"\n",
        "len(a)"
      ],
      "metadata": {
        "colab": {
          "base_uri": "https://localhost:8080/"
        },
        "id": "PYTBR-GzpEob",
        "outputId": "26d5eda8-b5cd-4837-c80a-bbed199d2e96"
      },
      "execution_count": 5,
      "outputs": [
        {
          "output_type": "execute_result",
          "data": {
            "text/plain": [
              "11"
            ]
          },
          "metadata": {},
          "execution_count": 5
        }
      ]
    },
    {
      "cell_type": "code",
      "source": [
        "from ast import Slice\n",
        "#practical question 3\n",
        "text = \"Python programming\"\n",
        "slice= text [0:4]\n",
        "print (slice)"
      ],
      "metadata": {
        "colab": {
          "base_uri": "https://localhost:8080/"
        },
        "id": "gAVpI2aEpNhI",
        "outputId": "dd229731-7584-456f-e3fd-8a6bf6a2d292"
      },
      "execution_count": 18,
      "outputs": [
        {
          "output_type": "stream",
          "name": "stdout",
          "text": [
            "Pyth\n"
          ]
        }
      ]
    },
    {
      "cell_type": "code",
      "source": [
        "# Practical Question 4\n",
        "string1= \"hello\"\n",
        "string2 = string1.upper()\n",
        "print (string2)"
      ],
      "metadata": {
        "colab": {
          "base_uri": "https://localhost:8080/"
        },
        "id": "wkg_0E0jpdSm",
        "outputId": "fbb00b73-a347-4c79-ac39-4757fce17eb8"
      },
      "execution_count": 24,
      "outputs": [
        {
          "output_type": "stream",
          "name": "stdout",
          "text": [
            "HELLO\n"
          ]
        }
      ]
    },
    {
      "cell_type": "code",
      "source": [
        "from os import replace\n",
        "#practical question 5\n",
        "word = \"I like apple\"\n",
        "word = word.replace(\"apple\", \"banana\")\n",
        "print (word)"
      ],
      "metadata": {
        "colab": {
          "base_uri": "https://localhost:8080/"
        },
        "id": "271fAnimrZE3",
        "outputId": "1879a717-96c3-4345-b6bd-09053bad06da"
      },
      "execution_count": 27,
      "outputs": [
        {
          "output_type": "stream",
          "name": "stdout",
          "text": [
            "I like banana\n"
          ]
        }
      ]
    },
    {
      "cell_type": "code",
      "source": [
        "#practical question 6\n",
        "list1 = [1,2,3,4,5]\n",
        "print (list1)"
      ],
      "metadata": {
        "colab": {
          "base_uri": "https://localhost:8080/"
        },
        "id": "tgW0w8iBrvlI",
        "outputId": "c28cdbef-4b23-4905-9170-a0d07c7ada1c"
      },
      "execution_count": 34,
      "outputs": [
        {
          "output_type": "stream",
          "name": "stdout",
          "text": [
            "[1, 2, 3, 4, 5]\n"
          ]
        }
      ]
    },
    {
      "cell_type": "code",
      "source": [
        "#practical question 7\n",
        "list1 = [1,2,3,4]\n",
        "list1.append(10)\n",
        "print (list1)"
      ],
      "metadata": {
        "colab": {
          "base_uri": "https://localhost:8080/"
        },
        "id": "_wFzodh5s1zR",
        "outputId": "0c7d4c69-e6b3-42aa-ceab-26f6e76f7afe"
      },
      "execution_count": 36,
      "outputs": [
        {
          "output_type": "stream",
          "name": "stdout",
          "text": [
            "[1, 2, 3, 4, 10]\n"
          ]
        }
      ]
    },
    {
      "cell_type": "code",
      "source": [
        "#practical question 8\n",
        "list1 = [1,2,3,4,5]\n",
        "list1.pop(2)\n",
        "print (list1)"
      ],
      "metadata": {
        "colab": {
          "base_uri": "https://localhost:8080/"
        },
        "id": "n7rZWdrNtaNO",
        "outputId": "0b873dee-f39a-414c-9656-50b27bb5e7a6"
      },
      "execution_count": 39,
      "outputs": [
        {
          "output_type": "stream",
          "name": "stdout",
          "text": [
            "[1, 2, 4, 5]\n"
          ]
        }
      ]
    },
    {
      "cell_type": "code",
      "source": [
        "#practical question 9\n",
        "list1 = [\"a\",\"b\",\"c\",\"d\"]\n",
        "list1.remove(\"b\")\n",
        "print (list1)"
      ],
      "metadata": {
        "colab": {
          "base_uri": "https://localhost:8080/"
        },
        "id": "an87NrEKtt2z",
        "outputId": "9411446d-0da5-4fa0-8c76-9653ebdfe5ed"
      },
      "execution_count": 41,
      "outputs": [
        {
          "output_type": "stream",
          "name": "stdout",
          "text": [
            "['a', 'c', 'd']\n"
          ]
        }
      ]
    },
    {
      "cell_type": "code",
      "source": [
        "# practical question 10\n",
        "list1= [10, 20, 30, 40, 50]\n",
        "list1 = list1[::-1]\n",
        "print (list1)"
      ],
      "metadata": {
        "colab": {
          "base_uri": "https://localhost:8080/"
        },
        "id": "KLS2mVg6uZ51",
        "outputId": "374acae9-4de2-423a-95c4-97d960286887"
      },
      "execution_count": 43,
      "outputs": [
        {
          "output_type": "stream",
          "name": "stdout",
          "text": [
            "[50, 40, 30, 20, 10]\n"
          ]
        }
      ]
    },
    {
      "cell_type": "code",
      "source": [
        "# practical question 11\n",
        "tuple1= (100,200, 300)\n",
        "print (tuple1)\n",
        "print (type(tuple1))"
      ],
      "metadata": {
        "colab": {
          "base_uri": "https://localhost:8080/"
        },
        "id": "P8iH7cUouo84",
        "outputId": "925e395c-e016-462f-b750-1cbce91c1f20"
      },
      "execution_count": 45,
      "outputs": [
        {
          "output_type": "stream",
          "name": "stdout",
          "text": [
            "(100, 200, 300)\n",
            "<class 'tuple'>\n"
          ]
        }
      ]
    },
    {
      "cell_type": "code",
      "source": [
        "#practical question 12\n",
        "tuple1= ('red', 'green', 'blue', 'yellow')\n",
        "print (tuple1[-2])"
      ],
      "metadata": {
        "colab": {
          "base_uri": "https://localhost:8080/"
        },
        "id": "749OBm2MvIJY",
        "outputId": "cb9beb47-7b4e-41fd-c147-87db0e93ebf0"
      },
      "execution_count": 47,
      "outputs": [
        {
          "output_type": "stream",
          "name": "stdout",
          "text": [
            "blue\n"
          ]
        }
      ]
    },
    {
      "cell_type": "code",
      "source": [
        "#Practical question 13\n",
        "tuple1= (10,20,5,15)\n",
        "print (min(tuple1))"
      ],
      "metadata": {
        "colab": {
          "base_uri": "https://localhost:8080/"
        },
        "id": "T4rFKwbTwPjp",
        "outputId": "b518c2b9-aa5d-40fa-f1de-dec014415808"
      },
      "execution_count": 48,
      "outputs": [
        {
          "output_type": "stream",
          "name": "stdout",
          "text": [
            "5\n"
          ]
        }
      ]
    },
    {
      "cell_type": "code",
      "source": [
        "# practical question 14\n",
        "tuple1= ('dog', 'cat', 'rabbit')\n",
        "tuple1.index('cat')"
      ],
      "metadata": {
        "colab": {
          "base_uri": "https://localhost:8080/"
        },
        "id": "6Z6H4CtDwgth",
        "outputId": "a99b559a-af66-4c02-8066-842017293146"
      },
      "execution_count": 49,
      "outputs": [
        {
          "output_type": "execute_result",
          "data": {
            "text/plain": [
              "1"
            ]
          },
          "metadata": {},
          "execution_count": 49
        }
      ]
    },
    {
      "cell_type": "code",
      "source": [
        "#practical qeustion 15\n",
        "tuple1 = ('apple', 'orange', 'banana')\n",
        "if 'kiwi' in tuple1:\n",
        "  print (\"yes kiwi is in tuple\")\n",
        "else:\n",
        "  print (\"no kiwi is not in tuple\")"
      ],
      "metadata": {
        "colab": {
          "base_uri": "https://localhost:8080/"
        },
        "id": "bhmmaytzyQiu",
        "outputId": "32d7041d-5c4e-486b-eb22-cdf8e70112eb"
      },
      "execution_count": 53,
      "outputs": [
        {
          "output_type": "stream",
          "name": "stdout",
          "text": [
            "no kiwi is not in tuple\n"
          ]
        }
      ]
    },
    {
      "cell_type": "code",
      "source": [
        "#practical question 16\n",
        "set1= {'a','b','c'}\n",
        "print (set1)"
      ],
      "metadata": {
        "colab": {
          "base_uri": "https://localhost:8080/"
        },
        "id": "fTKzxwZeyh1L",
        "outputId": "eca24d46-8489-472f-84f7-7ca849718871"
      },
      "execution_count": 54,
      "outputs": [
        {
          "output_type": "stream",
          "name": "stdout",
          "text": [
            "{'a', 'b', 'c'}\n"
          ]
        }
      ]
    },
    {
      "cell_type": "code",
      "source": [
        "#practical question 17\n",
        "set1= {1,2,3,4,5}\n",
        "set1.clear()\n",
        "set1"
      ],
      "metadata": {
        "colab": {
          "base_uri": "https://localhost:8080/"
        },
        "id": "PxWbj2gOzu3m",
        "outputId": "f15fc9a0-daed-4c03-b65f-5a740073e38e"
      },
      "execution_count": 56,
      "outputs": [
        {
          "output_type": "execute_result",
          "data": {
            "text/plain": [
              "set()"
            ]
          },
          "metadata": {},
          "execution_count": 56
        }
      ]
    },
    {
      "cell_type": "code",
      "source": [
        "#practical qeustion 18\n",
        "set1= {1,2,3,4}\n",
        "set1.remove(4)\n",
        "set1"
      ],
      "metadata": {
        "colab": {
          "base_uri": "https://localhost:8080/"
        },
        "id": "-PfOuqi7z8N5",
        "outputId": "585acf5e-3309-4ec9-b91d-d2eac862e620"
      },
      "execution_count": 59,
      "outputs": [
        {
          "output_type": "execute_result",
          "data": {
            "text/plain": [
              "{1, 2, 3}"
            ]
          },
          "metadata": {},
          "execution_count": 59
        }
      ]
    },
    {
      "cell_type": "code",
      "source": [
        "#practical question 19\n",
        "set1= {1,2,3}\n",
        "set2= {3,4,5}\n",
        "set1|set2"
      ],
      "metadata": {
        "colab": {
          "base_uri": "https://localhost:8080/"
        },
        "id": "fwLHudCt0IfB",
        "outputId": "1382f1c8-9c78-4931-b391-807c42ca48ce"
      },
      "execution_count": 60,
      "outputs": [
        {
          "output_type": "execute_result",
          "data": {
            "text/plain": [
              "{1, 2, 3, 4, 5}"
            ]
          },
          "metadata": {},
          "execution_count": 60
        }
      ]
    },
    {
      "cell_type": "code",
      "source": [
        "#practical question 20\n",
        "set1= {1,2,3}\n",
        "set2= {2,3,4}\n",
        "set1&set2"
      ],
      "metadata": {
        "colab": {
          "base_uri": "https://localhost:8080/"
        },
        "id": "_SwsmrMG03oK",
        "outputId": "a53beeaa-f665-430b-fc1c-13d7d49fa359"
      },
      "execution_count": 61,
      "outputs": [
        {
          "output_type": "execute_result",
          "data": {
            "text/plain": [
              "{2, 3}"
            ]
          },
          "metadata": {},
          "execution_count": 61
        }
      ]
    },
    {
      "cell_type": "code",
      "source": [
        "#practical questiond 21\n",
        "dic1= {\"name\":\"Shubham\", \"age\":\"25\", \"city\":\"Mumbai\"}\n",
        "print (dic1)\n",
        "print (type(dic1))\n"
      ],
      "metadata": {
        "colab": {
          "base_uri": "https://localhost:8080/"
        },
        "id": "yRsKRb_S1FWX",
        "outputId": "07ffc55e-e68f-4752-e3bf-057689a5b170"
      },
      "execution_count": 70,
      "outputs": [
        {
          "output_type": "stream",
          "name": "stdout",
          "text": [
            "{'name': 'Shubham', 'age': '25', 'city': 'Mumbai'}\n",
            "<class 'dict'>\n"
          ]
        }
      ]
    },
    {
      "cell_type": "code",
      "source": [
        "#practical questiond 22\n",
        "dict1= {\"name\": \"john\", \"age\": \"25\"}\n",
        "dict1[\"Country\"]= \"USA\"\n",
        "dict1"
      ],
      "metadata": {
        "colab": {
          "base_uri": "https://localhost:8080/"
        },
        "id": "6WvF4ck21Z6A",
        "outputId": "23043d69-8235-4899-fa2b-d1388a59a494"
      },
      "execution_count": 72,
      "outputs": [
        {
          "output_type": "execute_result",
          "data": {
            "text/plain": [
              "{'name': 'john', 'age': '25', 'Country': 'USA'}"
            ]
          },
          "metadata": {},
          "execution_count": 72
        }
      ]
    },
    {
      "cell_type": "code",
      "source": [
        "#practical qeustin 23\n",
        "dict1= {\"Name\":\"alice\", \"age\": \"30\"}\n",
        "dict1[\"Name\"]"
      ],
      "metadata": {
        "colab": {
          "base_uri": "https://localhost:8080/",
          "height": 35
        },
        "id": "bm6AyWL52ujp",
        "outputId": "223d9834-40f9-4a28-cbac-594f46d2453c"
      },
      "execution_count": 74,
      "outputs": [
        {
          "output_type": "execute_result",
          "data": {
            "text/plain": [
              "'alice'"
            ],
            "application/vnd.google.colaboratory.intrinsic+json": {
              "type": "string"
            }
          },
          "metadata": {},
          "execution_count": 74
        }
      ]
    },
    {
      "cell_type": "code",
      "source": [
        "#practical qeustin 24\n",
        "dict1= {\"Name\":\"bob\", \"age\": \"22\", \"city\": \"newyork\"}\n",
        "del dict1[\"age\"]\n",
        "dict1"
      ],
      "metadata": {
        "colab": {
          "base_uri": "https://localhost:8080/"
        },
        "id": "zuTnitsJ3Ib6",
        "outputId": "259760d5-534f-4f69-9728-3a33cf38cde3"
      },
      "execution_count": 75,
      "outputs": [
        {
          "output_type": "execute_result",
          "data": {
            "text/plain": [
              "{'Name': 'bob', 'city': 'newyork'}"
            ]
          },
          "metadata": {},
          "execution_count": 75
        }
      ]
    },
    {
      "cell_type": "code",
      "source": [
        "#practical qeustin 25\n",
        "my_dict = {'name': 'Alice', 'city': 'Paris'}\n",
        "\n",
        "if \"city\" in my_dict:\n",
        "    print(\"Key 'city' exists in the dictionary\")\n",
        "else:\n",
        "    print(\"Key 'city' does not exist\")"
      ],
      "metadata": {
        "colab": {
          "base_uri": "https://localhost:8080/"
        },
        "id": "VnLwhT993etw",
        "outputId": "652acf95-a095-4463-c2e7-48313b34ee81"
      },
      "execution_count": 81,
      "outputs": [
        {
          "output_type": "stream",
          "name": "stdout",
          "text": [
            "Key 'city' exists in the dictionary\n"
          ]
        }
      ]
    },
    {
      "cell_type": "code",
      "source": [
        "#practical qeustin 26\n",
        "my_list = [1, 2, 3, 4, 5]\n",
        "my_tuple = (10, 20, 30)\n",
        "my_dict = {\"name\": \"John\", \"age\": 25, \"city\": \"New York\"}\n",
        "\n",
        "print(\"List:\", my_list)\n",
        "print(\"Tuple:\", my_tuple)\n",
        "print(\"Dictionary:\", my_dict)"
      ],
      "metadata": {
        "colab": {
          "base_uri": "https://localhost:8080/"
        },
        "id": "8axSYANo3qgu",
        "outputId": "3a62faa5-a1af-4637-d1a1-663bac2411f4"
      },
      "execution_count": 82,
      "outputs": [
        {
          "output_type": "stream",
          "name": "stdout",
          "text": [
            "List: [1, 2, 3, 4, 5]\n",
            "Tuple: (10, 20, 30)\n",
            "Dictionary: {'name': 'John', 'age': 25, 'city': 'New York'}\n"
          ]
        }
      ]
    },
    {
      "cell_type": "code",
      "source": [
        "#practical qeustin 27\n",
        "import random\n",
        "\n",
        "my_list = random.sample(range(1, 101), 5)  # generates 5 random numbers\n",
        "my_list.sort()\n",
        "print(\"Sorted list:\", my_list)"
      ],
      "metadata": {
        "colab": {
          "base_uri": "https://localhost:8080/"
        },
        "id": "SDTOXjJF3rdh",
        "outputId": "46f91a81-21da-42b1-858b-27ebdd59c6ad"
      },
      "execution_count": 83,
      "outputs": [
        {
          "output_type": "stream",
          "name": "stdout",
          "text": [
            "Sorted list: [19, 35, 36, 52, 61]\n"
          ]
        }
      ]
    },
    {
      "cell_type": "code",
      "source": [
        "#practical qeustin 28\n",
        "my_list = [\"apple\", \"banana\", \"cherry\", \"date\", \"elderberry\"]\n",
        "print(my_list[3])\n"
      ],
      "metadata": {
        "colab": {
          "base_uri": "https://localhost:8080/"
        },
        "id": "vrHeOJCy3siG",
        "outputId": "a09b1880-56b8-4f87-f78a-eea104c324e1"
      },
      "execution_count": 84,
      "outputs": [
        {
          "output_type": "stream",
          "name": "stdout",
          "text": [
            "date\n"
          ]
        }
      ]
    },
    {
      "cell_type": "code",
      "source": [
        "#practical qeustin 29\n",
        "dict1 = {\"a\": 1, \"b\": 2}\n",
        "dict2 = {\"c\": 3, \"d\": 4}\n",
        "\n",
        "combined = {**dict1, **dict2}\n",
        "print (combined)"
      ],
      "metadata": {
        "colab": {
          "base_uri": "https://localhost:8080/"
        },
        "id": "l_7enFtx3tp1",
        "outputId": "80ef0eb7-8266-4f34-8246-97adca703c14"
      },
      "execution_count": 85,
      "outputs": [
        {
          "output_type": "stream",
          "name": "stdout",
          "text": [
            "{'a': 1, 'b': 2, 'c': 3, 'd': 4}\n"
          ]
        }
      ]
    },
    {
      "cell_type": "code",
      "source": [
        "#practical qeustin 30\n",
        "my_list = [\"a\", \"b\", \"a\", \"c\"]\n",
        "my_set = set(my_list)\n",
        "\n",
        "print(\"Set:\", my_set)"
      ],
      "metadata": {
        "colab": {
          "base_uri": "https://localhost:8080/"
        },
        "id": "imuY_j4j3ulz",
        "outputId": "4cdc8ac6-97db-4a51-96ad-143a31d64388"
      },
      "execution_count": 86,
      "outputs": [
        {
          "output_type": "stream",
          "name": "stdout",
          "text": [
            "Set: {'a', 'b', 'c'}\n"
          ]
        }
      ]
    },
    {
      "cell_type": "code",
      "source": [],
      "metadata": {
        "id": "zcauSpCp5NGl"
      },
      "execution_count": null,
      "outputs": []
    }
  ]
}