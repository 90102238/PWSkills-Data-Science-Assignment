{
  "nbformat": 4,
  "nbformat_minor": 0,
  "metadata": {
    "colab": {
      "provenance": []
    },
    "kernelspec": {
      "name": "python3",
      "display_name": "Python 3"
    },
    "language_info": {
      "name": "python"
    }
  },
  "cells": [
    {
      "cell_type": "code",
      "execution_count": 3,
      "metadata": {
        "colab": {
          "base_uri": "https://localhost:8080/",
          "height": 139
        },
        "id": "nrx7GL4UAEbM",
        "outputId": "fa8e5492-8201-4cd0-84a8-6494df611dc7"
      },
      "outputs": [
        {
          "output_type": "execute_result",
          "data": {
            "text/plain": [
              "' 1. Python is a complied-interpreted language. It is popular as it has vast set of usecases through the use of thousands of libraries present and python is easier to understand as it is easy to understand and interpret.\\n2. Interpreter in python is the ability of python to test codes line by line and stopping as soon as it finds first error. This saves futile efforts and helps in following an agile methodology of work.\\n3. Keywords in python are predefined words that hold special meaning and have specific purposes. such as print, type, input etc.\\n4. No keywords can not be used as variable names, as keywords already have a predefined meaning in python and they cant be assigned to any other value or meaning.\\n5. Mutability is the ability to modify data which has already been stored in python. Modification can be in terms of deletion, addition or replacement.\\n6. List are mutable as we can make changes to the data stored inside the list we can delete them or change them, whereas in case of tuples once the data is stored it cant be manipulated.\\n7. == is an comparison operator when we are trying to access whether 2 values are equal to each other or not, whereas is is an identity operatort which compares whether 2 variables refer to the same object in memory.\\n8. logical operators are operators used to make logical arguments and check conditional statements between 2 or more variables. there are 3 types of logical operators- and & or & not. they make logical decisions and returns boleean value of true or false against it.\\n9. Type casting refers to the process of changing the data type of any variable. this mean if number is stored as string we can not run mathematical operations on that number until we change its data type to int or float.\\n10. Implicit data type casting is when python itself understand the conversion it need to make in order to perform an operation between values of 2 different data types, whereas explicit data type is when we externally change the data type through external command.\\n11. Conditional statements are used to set the mechanism that governs the order in which the statement and instructions are executed which becomes crucial for implementing logic in our program.\\n12. Elif statement is used when we have multiple if conditions, so when first if conditions stands false, the second condition defined by elif runs and this keeps on happening till python finds a condition which is true, and if no condition is found to be true only then the program would run the else condition.\\n13. For and while loops, in case of for loops it iterates over a sequence of elements whereas while loop iterated multiple times till as condition is met.\\n14. A while loop is more suitable in those scenarios where the number of iterations required to meet a certain condition is not known. '"
            ],
            "application/vnd.google.colaboratory.intrinsic+json": {
              "type": "string"
            }
          },
          "metadata": {},
          "execution_count": 3
        }
      ],
      "source": [
        "#Python Basic Questions\n",
        "''' 1. Python is a complied-interpreted language. It is popular as it has vast set of usecases through the use of thousands of libraries present and python is easier to understand as it is easy to understand and interpret.\n",
        "2. Interpreter in python is the ability of python to test codes line by line and stopping as soon as it finds first error. This saves futile efforts and helps in following an agile methodology of work.\n",
        "3. Keywords in python are predefined words that hold special meaning and have specific purposes. such as print, type, input etc.\n",
        "4. No keywords can not be used as variable names, as keywords already have a predefined meaning in python and they cant be assigned to any other value or meaning.\n",
        "5. Mutability is the ability to modify data which has already been stored in python. Modification can be in terms of deletion, addition or replacement.\n",
        "6. List are mutable as we can make changes to the data stored inside the list we can delete them or change them, whereas in case of tuples once the data is stored it cant be manipulated.\n",
        "7. == is an comparison operator when we are trying to access whether 2 values are equal to each other or not, whereas is is an identity operatort which compares whether 2 variables refer to the same object in memory.\n",
        "8. logical operators are operators used to make logical arguments and check conditional statements between 2 or more variables. there are 3 types of logical operators- and & or & not. they make logical decisions and returns boleean value of true or false against it.\n",
        "9. Type casting refers to the process of changing the data type of any variable. this mean if number is stored as string we can not run mathematical operations on that number until we change its data type to int or float.\n",
        "10. Implicit data type casting is when python itself understand the conversion it need to make in order to perform an operation between values of 2 different data types, whereas explicit data type is when we externally change the data type through external command.\n",
        "11. Conditional statements are used to set the mechanism that governs the order in which the statement and instructions are executed which becomes crucial for implementing logic in our program.\n",
        "12. Elif statement is used when we have multiple if conditions, so when first if conditions stands false, the second condition defined by elif runs and this keeps on happening till python finds a condition which is true, and if no condition is found to be true only then the program would run the else condition.\n",
        "13. For and while loops, in case of for loops it iterates over a sequence of elements whereas while loop iterated multiple times till as condition is met.\n",
        "14. A while loop is more suitable in those scenarios where the number of iterations required to meet a certain condition is not known. '''\n",
        "\n"
      ]
    },
    {
      "cell_type": "code",
      "source": [
        "# practical question 1\n",
        "\n",
        "print (\"hello world\")"
      ],
      "metadata": {
        "colab": {
          "base_uri": "https://localhost:8080/"
        },
        "id": "FsXJb7iNBCDJ",
        "outputId": "74a68c53-c81c-4f24-932c-c2ff4eecb3fd"
      },
      "execution_count": 4,
      "outputs": [
        {
          "output_type": "stream",
          "name": "stdout",
          "text": [
            "hello world\n"
          ]
        }
      ]
    },
    {
      "cell_type": "code",
      "source": [
        "# Practical Question 2\n",
        "\n",
        "print (\"Name = Shubham\", \"Age = 25\")\n"
      ],
      "metadata": {
        "colab": {
          "base_uri": "https://localhost:8080/"
        },
        "id": "eP8-O0lXBGKD",
        "outputId": "62f8659d-8714-402e-9c72-ae14e75e7b78"
      },
      "execution_count": 5,
      "outputs": [
        {
          "output_type": "stream",
          "name": "stdout",
          "text": [
            "Name = Shubham Age = 25\n"
          ]
        }
      ]
    },
    {
      "cell_type": "code",
      "source": [
        "# Practical Question 3\n",
        "help ('keywords')"
      ],
      "metadata": {
        "colab": {
          "base_uri": "https://localhost:8080/"
        },
        "id": "UVHJrdgcBKLg",
        "outputId": "6e462235-b9d0-468e-c71c-8a5ebfd60896"
      },
      "execution_count": 6,
      "outputs": [
        {
          "output_type": "stream",
          "name": "stdout",
          "text": [
            "\n",
            "Here is a list of the Python keywords.  Enter any keyword to get more help.\n",
            "\n",
            "False               class               from                or\n",
            "None                continue            global              pass\n",
            "True                def                 if                  raise\n",
            "and                 del                 import              return\n",
            "as                  elif                in                  try\n",
            "assert              else                is                  while\n",
            "async               except              lambda              with\n",
            "await               finally             nonlocal            yield\n",
            "break               for                 not                 \n",
            "\n"
          ]
        }
      ]
    },
    {
      "cell_type": "code",
      "source": [
        "import keyword\n",
        "# practical question 4\n",
        "x = input(\"Enter a word: \")\n",
        "if keyword.iskeyword(x):\n",
        "  print (f\"{x} is a keyword\")\n",
        "else: print(f\"{x} is not a keyword\")"
      ],
      "metadata": {
        "colab": {
          "base_uri": "https://localhost:8080/"
        },
        "id": "DQDwjLvdBU08",
        "outputId": "762bd404-c2a5-4226-ac87-a7bd2d643777"
      },
      "execution_count": 5,
      "outputs": [
        {
          "output_type": "stream",
          "name": "stdout",
          "text": [
            "Enter a word: for\n",
            "for is a keyword\n"
          ]
        }
      ]
    },
    {
      "cell_type": "code",
      "source": [
        "# practical question 5\n",
        "x = [1,2,3, \"ajay\", \"divide\"]\n",
        "y= (1,2,3, \"ajay\", \"divide\")\n",
        "x [1]= 5\n",
        "print(x)"
      ],
      "metadata": {
        "colab": {
          "base_uri": "https://localhost:8080/"
        },
        "id": "jO9XgdxfFKmr",
        "outputId": "3739cdd9-d262-4074-87f4-a547d9ae9814"
      },
      "execution_count": 34,
      "outputs": [
        {
          "output_type": "stream",
          "name": "stdout",
          "text": [
            "[1, 5, 3, 'ajay', 'divide']\n"
          ]
        }
      ]
    },
    {
      "cell_type": "code",
      "source": [
        "x = [1,2,3, \"ajay\", \"divide\"]\n",
        "y= (1,2,3, \"ajay\", \"divide\")\n",
        "y [1]= 5\n",
        "print(y)"
      ],
      "metadata": {
        "colab": {
          "base_uri": "https://localhost:8080/",
          "height": 193
        },
        "id": "zJyDlq2KHri4",
        "outputId": "475367c7-15ed-4f76-9ed0-564ea1456339"
      },
      "execution_count": 35,
      "outputs": [
        {
          "output_type": "error",
          "ename": "TypeError",
          "evalue": "'tuple' object does not support item assignment",
          "traceback": [
            "\u001b[0;31m---------------------------------------------------------------------------\u001b[0m",
            "\u001b[0;31mTypeError\u001b[0m                                 Traceback (most recent call last)",
            "\u001b[0;32m/tmp/ipython-input-2965138548.py\u001b[0m in \u001b[0;36m<cell line: 0>\u001b[0;34m()\u001b[0m\n\u001b[1;32m      1\u001b[0m \u001b[0mx\u001b[0m \u001b[0;34m=\u001b[0m \u001b[0;34m[\u001b[0m\u001b[0;36m1\u001b[0m\u001b[0;34m,\u001b[0m\u001b[0;36m2\u001b[0m\u001b[0;34m,\u001b[0m\u001b[0;36m3\u001b[0m\u001b[0;34m,\u001b[0m \u001b[0;34m\"ajay\"\u001b[0m\u001b[0;34m,\u001b[0m \u001b[0;34m\"divide\"\u001b[0m\u001b[0;34m]\u001b[0m\u001b[0;34m\u001b[0m\u001b[0;34m\u001b[0m\u001b[0m\n\u001b[1;32m      2\u001b[0m \u001b[0my\u001b[0m\u001b[0;34m=\u001b[0m \u001b[0;34m(\u001b[0m\u001b[0;36m1\u001b[0m\u001b[0;34m,\u001b[0m\u001b[0;36m2\u001b[0m\u001b[0;34m,\u001b[0m\u001b[0;36m3\u001b[0m\u001b[0;34m,\u001b[0m \u001b[0;34m\"ajay\"\u001b[0m\u001b[0;34m,\u001b[0m \u001b[0;34m\"divide\"\u001b[0m\u001b[0;34m)\u001b[0m\u001b[0;34m\u001b[0m\u001b[0;34m\u001b[0m\u001b[0m\n\u001b[0;32m----> 3\u001b[0;31m \u001b[0my\u001b[0m \u001b[0;34m[\u001b[0m\u001b[0;36m1\u001b[0m\u001b[0;34m]\u001b[0m\u001b[0;34m=\u001b[0m \u001b[0;36m5\u001b[0m\u001b[0;34m\u001b[0m\u001b[0;34m\u001b[0m\u001b[0m\n\u001b[0m\u001b[1;32m      4\u001b[0m \u001b[0mprint\u001b[0m\u001b[0;34m(\u001b[0m\u001b[0my\u001b[0m\u001b[0;34m)\u001b[0m\u001b[0;34m\u001b[0m\u001b[0;34m\u001b[0m\u001b[0m\n",
            "\u001b[0;31mTypeError\u001b[0m: 'tuple' object does not support item assignment"
          ]
        }
      ]
    },
    {
      "cell_type": "code",
      "source": [
        "# practical problem 6\n",
        "''' the previous problem showcases how mutable (list) and immutable (tuple) act differently and demostrate different behaviour.'''"
      ],
      "metadata": {
        "id": "x0gndpyBIVK7"
      },
      "execution_count": null,
      "outputs": []
    },
    {
      "cell_type": "code",
      "source": [
        "# practical problem 7\n",
        "x= int(input(\"enter no:\"))\n",
        "y= int(input(\"enter no:\"))\n",
        "print(x+y)"
      ],
      "metadata": {
        "colab": {
          "base_uri": "https://localhost:8080/"
        },
        "id": "0B8bd9DiJgeu",
        "outputId": "9ef52350-6e5b-4ccf-ca29-f8eff46b5398"
      },
      "execution_count": 6,
      "outputs": [
        {
          "output_type": "stream",
          "name": "stdout",
          "text": [
            "enter no:3\n",
            "enter no:4\n",
            "7\n"
          ]
        }
      ]
    },
    {
      "cell_type": "code",
      "source": [
        "# practical problem 8\n",
        "a= int(input(\"enter no:\"))\n",
        "b= int(input(\"enter no:\"))\n",
        "print (a&b, a|b, a^b)"
      ],
      "metadata": {
        "colab": {
          "base_uri": "https://localhost:8080/"
        },
        "id": "mGHmGFI-Luzj",
        "outputId": "b2f5a520-5e4f-41ce-d1cd-c8d7736584d7"
      },
      "execution_count": 16,
      "outputs": [
        {
          "output_type": "stream",
          "name": "stdout",
          "text": [
            "enter no:18\n",
            "enter no:3\n",
            "2 19 17\n"
          ]
        }
      ]
    },
    {
      "cell_type": "code",
      "source": [
        "# practical problem 9\n",
        "a = input(\"enter your number:\")\n",
        "b= input(\"enter your decimal:\")\n",
        "c = input(\"enter true or false:\")\n",
        "\n",
        "type (a), type (b), type (c),\n",
        "\n",
        "a=int(a)\n",
        "b= float(b)\n",
        "c= bool(c)\n",
        "\n",
        "type (a), type (b), type (c),\n"
      ],
      "metadata": {
        "colab": {
          "base_uri": "https://localhost:8080/"
        },
        "id": "__iT029UeATL",
        "outputId": "9b26366b-b849-42e8-d3b0-986c3eae181e"
      },
      "execution_count": 29,
      "outputs": [
        {
          "name": "stdout",
          "output_type": "stream",
          "text": [
            "enter your number:5\n",
            "enter your decimal:6.7\n",
            "enter true or false:false\n"
          ]
        },
        {
          "output_type": "execute_result",
          "data": {
            "text/plain": [
              "(int, float, bool)"
            ]
          },
          "metadata": {},
          "execution_count": 29
        }
      ]
    },
    {
      "cell_type": "code",
      "source": [
        "# practical problem 10\n",
        "a= [\"1\",2,3,\"ajay\", \"meet\", \"4.5\"]\n",
        "type(a[0])\n",
        "a[0] = int(a[0])\n",
        "type(a[0])\n",
        "\n"
      ],
      "metadata": {
        "colab": {
          "base_uri": "https://localhost:8080/"
        },
        "id": "ytur4txnkxMG",
        "outputId": "19ba6f58-3417-4229-93cc-d04ed24f6386"
      },
      "execution_count": 40,
      "outputs": [
        {
          "output_type": "execute_result",
          "data": {
            "text/plain": [
              "int"
            ]
          },
          "metadata": {},
          "execution_count": 40
        }
      ]
    },
    {
      "cell_type": "code",
      "source": [
        "# practical problem 11\n",
        "x= int(input(\"enter your number:\"))\n",
        "if x > 0:\n",
        "  print(\"x is positive\")\n",
        "elif x < 0 :\n",
        "  print(\"x is negative\")\n",
        "else: print(\"x is zero\")"
      ],
      "metadata": {
        "colab": {
          "base_uri": "https://localhost:8080/"
        },
        "id": "9nn9Ku-To5vH",
        "outputId": "726eac36-cb04-44b3-98a2-8004d3f26bac"
      },
      "execution_count": 54,
      "outputs": [
        {
          "output_type": "stream",
          "name": "stdout",
          "text": [
            "enter your number:-1\n",
            "x is negative\n"
          ]
        }
      ]
    },
    {
      "cell_type": "code",
      "source": [
        "# practical problem 12\n",
        "for i in range(11):\n",
        "  print(i)"
      ],
      "metadata": {
        "colab": {
          "base_uri": "https://localhost:8080/"
        },
        "id": "HRZ9Cgrbss9T",
        "outputId": "909cd7ff-2dd3-4d9b-c56c-76328fba5cc9"
      },
      "execution_count": 65,
      "outputs": [
        {
          "output_type": "stream",
          "name": "stdout",
          "text": [
            "0\n",
            "1\n",
            "2\n",
            "3\n",
            "4\n",
            "5\n",
            "6\n",
            "7\n",
            "8\n",
            "9\n",
            "10\n"
          ]
        }
      ]
    },
    {
      "cell_type": "code",
      "source": [
        "# Practical problem 13\n",
        "total = 0\n",
        "for i in range(1,51):\n",
        "  if i % 2 ==0:\n",
        "    total += i\n",
        "print (total)"
      ],
      "metadata": {
        "colab": {
          "base_uri": "https://localhost:8080/"
        },
        "id": "weaSfOk7yefN",
        "outputId": "99f6dbfd-3da0-431f-cb77-bd56823ddf39"
      },
      "execution_count": 82,
      "outputs": [
        {
          "output_type": "stream",
          "name": "stdout",
          "text": [
            "650\n"
          ]
        }
      ]
    },
    {
      "cell_type": "code",
      "source": [
        "#practical problem 14\n",
        "# Sorry sir I could not think of the solution for this problem, please help me with the same."
      ],
      "metadata": {
        "id": "ma5V9_tH1blu"
      },
      "execution_count": null,
      "outputs": []
    },
    {
      "cell_type": "code",
      "source": [
        "# practical problem 15\n",
        "factorial = 1\n",
        "x= int(input(\"enter your no:\"))\n",
        "while x > 1:\n",
        "  factorial *= x\n",
        "  x= x-1\n",
        "\n",
        "print(factorial)\n"
      ],
      "metadata": {
        "colab": {
          "base_uri": "https://localhost:8080/"
        },
        "id": "V2DQyR7b14Ft",
        "outputId": "17b230ee-f45b-4aea-c240-bce423ef87f7"
      },
      "execution_count": 89,
      "outputs": [
        {
          "output_type": "stream",
          "name": "stdout",
          "text": [
            "enter your no:5\n",
            "120\n"
          ]
        }
      ]
    }
  ]
}